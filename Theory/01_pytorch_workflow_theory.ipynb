{
  "nbformat": 4,
  "nbformat_minor": 0,
  "metadata": {
    "colab": {
      "provenance": [],
      "gpuType": "T4",
      "authorship_tag": "ABX9TyMBcdhsflL5V9DV0lYpNZoj",
      "include_colab_link": true
    },
    "kernelspec": {
      "name": "python3",
      "display_name": "Python 3"
    },
    "language_info": {
      "name": "python"
    },
    "accelerator": "GPU"
  },
  "cells": [
    {
      "cell_type": "markdown",
      "metadata": {
        "id": "view-in-github",
        "colab_type": "text"
      },
      "source": [
        "<a href=\"https://colab.research.google.com/github/SuKay712/LearnPyTorch/blob/main/01_pytorch_workflow_theory.ipynb\" target=\"_parent\"><img src=\"https://colab.research.google.com/assets/colab-badge.svg\" alt=\"Open In Colab\"/></a>"
      ]
    },
    {
      "cell_type": "markdown",
      "source": [
        "##Pytorch_WorkFlow\n"
      ],
      "metadata": {
        "id": "OC1dOxzAONy2"
      }
    },
    {
      "cell_type": "code",
      "source": [
        "import torch\n",
        "from torch import nn\n",
        "import matplotlib.pyplot as plt\n",
        "#check pytorch verion\n",
        "torch.__version__"
      ],
      "metadata": {
        "colab": {
          "base_uri": "https://localhost:8080/",
          "height": 35
        },
        "id": "fqwssnu0Fvn9",
        "outputId": "166284cd-ce65-477d-b0ab-486116227c06"
      },
      "execution_count": 2,
      "outputs": [
        {
          "output_type": "execute_result",
          "data": {
            "text/plain": [
              "'2.0.1+cu118'"
            ],
            "application/vnd.google.colaboratory.intrinsic+json": {
              "type": "string"
            }
          },
          "metadata": {},
          "execution_count": 2
        }
      ]
    },
    {
      "cell_type": "code",
      "source": [
        "weigth = 0.7\n",
        "bias = 0.3\n",
        "#create\n",
        "start = 0\n",
        "end = 1\n",
        "step =0.02\n",
        "x = torch.arange(start, end, step).unsqueeze(dim = 1)\n",
        "y = weigth * x + bias\n",
        "x[:10], y[:10]"
      ],
      "metadata": {
        "colab": {
          "base_uri": "https://localhost:8080/"
        },
        "id": "izmnoU398ImN",
        "outputId": "46b746c2-60bd-4874-a71b-8a8c0f251c3d"
      },
      "execution_count": 3,
      "outputs": [
        {
          "output_type": "execute_result",
          "data": {
            "text/plain": [
              "(tensor([[0.0000],\n",
              "         [0.0200],\n",
              "         [0.0400],\n",
              "         [0.0600],\n",
              "         [0.0800],\n",
              "         [0.1000],\n",
              "         [0.1200],\n",
              "         [0.1400],\n",
              "         [0.1600],\n",
              "         [0.1800]]),\n",
              " tensor([[0.3000],\n",
              "         [0.3140],\n",
              "         [0.3280],\n",
              "         [0.3420],\n",
              "         [0.3560],\n",
              "         [0.3700],\n",
              "         [0.3840],\n",
              "         [0.3980],\n",
              "         [0.4120],\n",
              "         [0.4260]]))"
            ]
          },
          "metadata": {},
          "execution_count": 3
        }
      ]
    },
    {
      "cell_type": "code",
      "source": [
        "len(x), len(y)"
      ],
      "metadata": {
        "colab": {
          "base_uri": "https://localhost:8080/"
        },
        "id": "GEYup5n981ab",
        "outputId": "f2674980-82ee-4606-9587-715673a3d70c"
      },
      "execution_count": 4,
      "outputs": [
        {
          "output_type": "execute_result",
          "data": {
            "text/plain": [
              "(50, 50)"
            ]
          },
          "metadata": {},
          "execution_count": 4
        }
      ]
    },
    {
      "cell_type": "markdown",
      "source": [
        "##split data into training and test sets"
      ],
      "metadata": {
        "id": "sFPhPB8D95Ph"
      }
    },
    {
      "cell_type": "code",
      "source": [
        "#create a train/test split\n",
        "train_split = int(0.8 * len(x))\n",
        "x_train, y_train = x[:train_split], y[:train_split]\n",
        "x_test, y_test = x[train_split:], y[train_split:]\n",
        "len(x_train), len(x_test), len(y_train), len(y_test)"
      ],
      "metadata": {
        "colab": {
          "base_uri": "https://localhost:8080/"
        },
        "id": "2HmZjGrK97x3",
        "outputId": "8bda1ddd-2375-44c2-fb4a-5087240253e5"
      },
      "execution_count": 5,
      "outputs": [
        {
          "output_type": "execute_result",
          "data": {
            "text/plain": [
              "(40, 10, 40, 10)"
            ]
          },
          "metadata": {},
          "execution_count": 5
        }
      ]
    },
    {
      "cell_type": "markdown",
      "source": [
        "##Visualize data"
      ],
      "metadata": {
        "id": "EMgErhEk-5wj"
      }
    },
    {
      "cell_type": "code",
      "source": [
        "def plot_predictions ( train_data = x_train,\n",
        "                    train_labels = y_train,\n",
        "                     test_data = x_test,\n",
        "                     test_labels = y_test,\n",
        "                     predictions = None):\n",
        "  plt.figure(figsize = (10, 7))\n",
        "\n",
        "\n",
        "  ##Plot training data, test data and compare predictions\n",
        "\n",
        "  #plot data in blue\n",
        "  plt.scatter(train_data, train_labels, c = \"b\", s = 4, label = \"Trainning data\")\n",
        "    #plot data in green\n",
        "  plt.scatter(test_data, test_labels, c = \"g\", s = 4, label = \"Test data\")\n",
        "  if predictions is not None:\n",
        "    plt.scatter(test_data, predictions, c = \"r\", s= 4, label = \"Predictions\")\n",
        "\n",
        "  #show legend\n",
        "  plt.legend(prop={\"size\": 14})"
      ],
      "metadata": {
        "id": "ZplCFUW7-q35"
      },
      "execution_count": 6,
      "outputs": []
    },
    {
      "cell_type": "code",
      "source": [
        "plot_predictions()"
      ],
      "metadata": {
        "colab": {
          "base_uri": "https://localhost:8080/",
          "height": 461
        },
        "id": "kJzomPde_A3D",
        "outputId": "940bb3e5-4667-459f-b136-10d00693b4cc"
      },
      "execution_count": 7,
      "outputs": [
        {
          "output_type": "display_data",
          "data": {
            "text/plain": [
              "<Figure size 1000x700 with 1 Axes>"
            ],
            "image/png": "[encoded data removed]"
          },
          "metadata": {}
        }
      ]
    },
    {
      "cell_type": "markdown",
      "source": [
        "##Build Model\n",
        "two algorithm:\n",
        "1.gradient descent\n",
        "2.backpropagation"
      ],
      "metadata": {
        "id": "Q7MzpypTFOeO"
      }
    },
    {
      "cell_type": "code",
      "source": [
        "#create linear regression model class\n",
        "class LinearRegressionModule(nn.Module): # ke thua tat ca tu nn.module cho pytorch\n",
        "    def __init__(self) :\n",
        "        super().__init__()\n",
        "        self.weights = nn.Parameter(  torch.rand(1,\n",
        "                                                        requires_grad = True,\n",
        "                                                        dtype = torch.float))\n",
        "\n",
        "        self.bias = nn.Parameter(torch.rand(1,\n",
        "                                           requires_grad = True,\n",
        "                                           dtype = torch.float))\n",
        "\n",
        "        #forward method to defind the computation in the model\n",
        "    def forward(self, x: torch.Tensor) ->torch.Tensor:\n",
        "        return self.weights *x + self.bias #day la linear regression fomula\n",
        "\n",
        "\n"
      ],
      "metadata": {
        "id": "N0ZtxLzzFKah"
      },
      "execution_count": 8,
      "outputs": []
    },
    {
      "cell_type": "code",
      "source": [
        "#create a random seed\n",
        "torch.manual_seed(42)\n",
        "#create an instance of the model( this is a subclass of nn.module)\n",
        "model_0 = LinearRegressionModule()\n",
        "model_0\n",
        "#check out the parameter\n",
        "list(model_0.parameters())\n"
      ],
      "metadata": {
        "colab": {
          "base_uri": "https://localhost:8080/"
        },
        "id": "iuaWAuPmPA_7",
        "outputId": "2fa49c2d-ac97-4c7d-deaf-2d9b07b417e2"
      },
      "execution_count": 9,
      "outputs": [
        {
          "output_type": "execute_result",
          "data": {
            "text/plain": [
              "[Parameter containing:\n",
              " tensor([0.8823], requires_grad=True),\n",
              " Parameter containing:\n",
              " tensor([0.9150], requires_grad=True)]"
            ]
          },
          "metadata": {},
          "execution_count": 9
        }
      ]
    },
    {
      "cell_type": "code",
      "source": [
        "#list named paratmeters\n",
        "model_0.state_dict()"
      ],
      "metadata": {
        "colab": {
          "base_uri": "https://localhost:8080/"
        },
        "id": "6yHwPa5pPRd9",
        "outputId": "2f801068-f951-441d-a964-7d9336d27f29"
      },
      "execution_count": 10,
      "outputs": [
        {
          "output_type": "execute_result",
          "data": {
            "text/plain": [
              "OrderedDict([('weights', tensor([0.8823])), ('bias', tensor([0.9150]))])"
            ]
          },
          "metadata": {},
          "execution_count": 10
        }
      ]
    },
    {
      "cell_type": "code",
      "source": [
        "y_preds = model_0(x_test)\n",
        "y_preds"
      ],
      "metadata": {
        "id": "FBaqMTeoU9rT",
        "outputId": "e617fe40-2abd-463d-8c1f-42393484286e",
        "colab": {
          "base_uri": "https://localhost:8080/"
        }
      },
      "execution_count": 11,
      "outputs": [
        {
          "output_type": "execute_result",
          "data": {
            "text/plain": [
              "tensor([[1.6208],\n",
              "        [1.6385],\n",
              "        [1.6561],\n",
              "        [1.6738],\n",
              "        [1.6914],\n",
              "        [1.7090],\n",
              "        [1.7267],\n",
              "        [1.7443],\n",
              "        [1.7620],\n",
              "        [1.7796]], grad_fn=<AddBackward0>)"
            ]
          },
          "metadata": {},
          "execution_count": 11
        }
      ]
    },
    {
      "cell_type": "markdown",
      "source": [
        "### Making prediction using `torch.inference_mode()`\n",
        "To check our model 's predictive power, let's see how well it predicts`y_test` based on `x_test`\n",
        "\n"
      ],
      "metadata": {
        "id": "qXwYANY8RWY7"
      }
    },
    {
      "cell_type": "code",
      "source": [
        "#make predictions with model\n",
        "with torch.inference_mode(): ##or torch.no_grad()\n",
        "  y_preds = model_0(x_test)\n",
        "y_preds"
      ],
      "metadata": {
        "colab": {
          "base_uri": "https://localhost:8080/"
        },
        "id": "ImLxdZ-LRX0W",
        "outputId": "241389bc-ba2f-480e-f7f7-b5463a00321c"
      },
      "execution_count": 12,
      "outputs": [
        {
          "output_type": "execute_result",
          "data": {
            "text/plain": [
              "tensor([[1.6208],\n",
              "        [1.6385],\n",
              "        [1.6561],\n",
              "        [1.6738],\n",
              "        [1.6914],\n",
              "        [1.7090],\n",
              "        [1.7267],\n",
              "        [1.7443],\n",
              "        [1.7620],\n",
              "        [1.7796]])"
            ]
          },
          "metadata": {},
          "execution_count": 12
        }
      ]
    },
    {
      "cell_type": "code",
      "source": [
        "y_test"
      ],
      "metadata": {
        "colab": {
          "base_uri": "https://localhost:8080/"
        },
        "id": "GkAyo2PZTf9z",
        "outputId": "4a443237-6f3f-4e4b-b648-e2244f81e4e5"
      },
      "execution_count": 13,
      "outputs": [
        {
          "output_type": "execute_result",
          "data": {
            "text/plain": [
              "tensor([[0.8600],\n",
              "        [0.8740],\n",
              "        [0.8880],\n",
              "        [0.9020],\n",
              "        [0.9160],\n",
              "        [0.9300],\n",
              "        [0.9440],\n",
              "        [0.9580],\n",
              "        [0.9720],\n",
              "        [0.9860]])"
            ]
          },
          "metadata": {},
          "execution_count": 13
        }
      ]
    },
    {
      "cell_type": "code",
      "source": [
        "plot_predictions(predictions = y_preds)"
      ],
      "metadata": {
        "colab": {
          "base_uri": "https://localhost:8080/",
          "height": 461
        },
        "id": "KV6_5I1tTzhE",
        "outputId": "67dee71f-3c58-4b01-af12-415ba90b01e6"
      },
      "execution_count": 14,
      "outputs": [
        {
          "output_type": "display_data",
          "data": {
            "text/plain": [
              "<Figure size 1000x700 with 1 Axes>"
            ],
            "image/png": "[encoded data removed]"
          },
          "metadata": {}
        }
      ]
    },
    {
      "cell_type": "markdown",
      "source": [
        "##3. Train model\n",
        "the"
      ],
      "metadata": {
        "id": "weU2qkjF1Xht"
      }
    },
    {
      "cell_type": "code",
      "source": [
        "list(model_0.parameters())"
      ],
      "metadata": {
        "colab": {
          "base_uri": "https://localhost:8080/"
        },
        "id": "jY5mIm1y3y_k",
        "outputId": "8ec71bd9-fdb7-4dfa-d26d-8547a8b9d0ea"
      },
      "execution_count": 15,
      "outputs": [
        {
          "output_type": "execute_result",
          "data": {
            "text/plain": [
              "[Parameter containing:\n",
              " tensor([0.8823], requires_grad=True),\n",
              " Parameter containing:\n",
              " tensor([0.9150], requires_grad=True)]"
            ]
          },
          "metadata": {},
          "execution_count": 15
        }
      ]
    },
    {
      "cell_type": "code",
      "source": [
        "## create Loss function\n",
        "loss_function = nn.L1Loss()\n",
        "##setup an optimizer\n",
        "optimizer = torch.optim.SGD ( params = model_0.parameters(),\n",
        "                            lr= 0.01)"
      ],
      "metadata": {
        "id": "QG-798xA3-jl"
      },
      "execution_count": 16,
      "outputs": []
    },
    {
      "cell_type": "code",
      "source": [
        "with torch.no_grad():\n",
        "    list(model_0.parameters())"
      ],
      "metadata": {
        "id": "sfBckW0i8DjR"
      },
      "execution_count": 17,
      "outputs": []
    },
    {
      "cell_type": "markdown",
      "source": [
        "#building training loop"
      ],
      "metadata": {
        "id": "uiOV1WDI6FP5"
      }
    },
    {
      "cell_type": "code",
      "source": [
        "#epochs\n",
        "epochs = 100\n",
        "for epoch in range(epochs):\n",
        "    #set model to training mode\n",
        "    model_0.train()# train mode in pytorch set all par\n",
        "    #1. forward pass\n",
        "    y_pred = model_0(x_train)\n",
        "    #2. calcut the loss\n",
        "    loss = loss_function(y_pred, y_train)\n",
        "    print(f\"lost: {loss} \")\n",
        "    #3 optimizer zero grad\n",
        "    optimizer.zero_grad()\n",
        "    #4 perform backpropagation on the loss with the respect to the parameters of the model\n",
        "    loss.backward()\n",
        "    #5 step the optimizer(perform grad descent)\n",
        "    optimizer.step()\n",
        "    ##testing\n",
        "    model_0.eval() #turn off gradient tracking\n",
        "    with torch.inference_mode():\n",
        "        #do the forward pass\n",
        "        test_pred = model_0(x_test)\n",
        "        #2. calculate the loss\n",
        "        test_loss = loss_function(test_pred, y_test)\n",
        "    if epoch %10 == 0:\n",
        "        print(f\"epoch: {epoch} | loss: {loss} |Test loss: {test_loss}\")\n",
        "        print(model_0.state_dict())\n"
      ],
      "metadata": {
        "colab": {
          "base_uri": "https://localhost:8080/"
        },
        "id": "tj_XiQMF6JSy",
        "outputId": "8061300a-dd3c-4529-a427-05f2d61e2744"
      },
      "execution_count": 18,
      "outputs": [
        {
          "output_type": "stream",
          "name": "stdout",
          "text": [
            "lost: 0.6860889196395874 \n",
            "epoch: 0 | loss: 0.6860889196395874 |Test loss: 0.7637526988983154\n",
            "OrderedDict([('weights', tensor([0.8784])), ('bias', tensor([0.9050]))])\n",
            "lost: 0.6745679974555969 \n",
            "lost: 0.6630470156669617 \n",
            "lost: 0.6515260338783264 \n",
            "lost: 0.6400049924850464 \n",
            "lost: 0.6284840703010559 \n",
            "lost: 0.6169630289077759 \n",
            "lost: 0.6054420471191406 \n",
            "lost: 0.5939210653305054 \n",
            "lost: 0.5824000239372253 \n",
            "lost: 0.5708791017532349 \n",
            "epoch: 10 | loss: 0.5708791017532349 |Test loss: 0.6290428042411804\n",
            "OrderedDict([('weights', tensor([0.8394])), ('bias', tensor([0.8050]))])\n",
            "lost: 0.5593580603599548 \n",
            "lost: 0.5478371381759644 \n",
            "lost: 0.5363161563873291 \n",
            "lost: 0.5247951149940491 \n",
            "lost: 0.5132741332054138 \n",
            "lost: 0.5017532110214233 \n",
            "lost: 0.4902321696281433 \n",
            "lost: 0.47871121764183044 \n",
            "lost: 0.4671902060508728 \n",
            "lost: 0.45566922426223755 \n",
            "epoch: 20 | loss: 0.45566922426223755 |Test loss: 0.4943329691886902\n",
            "OrderedDict([('weights', tensor([0.8004])), ('bias', tensor([0.7050]))])\n",
            "lost: 0.4441482126712799 \n",
            "lost: 0.43262726068496704 \n",
            "lost: 0.4211062490940094 \n",
            "lost: 0.40958523750305176 \n",
            "lost: 0.3980643153190613 \n",
            "lost: 0.38654330372810364 \n",
            "lost: 0.375022292137146 \n",
            "lost: 0.36350134015083313 \n",
            "lost: 0.3519803285598755 \n",
            "lost: 0.34045934677124023 \n",
            "epoch: 30 | loss: 0.34045934677124023 |Test loss: 0.35962313413619995\n",
            "OrderedDict([('weights', tensor([0.7614])), ('bias', tensor([0.6050]))])\n",
            "lost: 0.328938364982605 \n",
            "lost: 0.31741735339164734 \n",
            "lost: 0.3058963716030121 \n",
            "lost: 0.2943754196166992 \n",
            "lost: 0.2828544080257416 \n",
            "lost: 0.2713334262371063 \n",
            "lost: 0.25981244444847107 \n",
            "lost: 0.24829146265983582 \n",
            "lost: 0.23677048087120056 \n",
            "lost: 0.2252494841814041 \n",
            "epoch: 40 | loss: 0.2252494841814041 |Test loss: 0.2249133139848709\n",
            "OrderedDict([('weights', tensor([0.7224])), ('bias', tensor([0.5050]))])\n",
            "lost: 0.21372847259044647 \n",
            "lost: 0.20220749080181122 \n",
            "lost: 0.19068653881549835 \n",
            "lost: 0.1791655272245407 \n",
            "lost: 0.16764454543590546 \n",
            "lost: 0.156123548746109 \n",
            "lost: 0.14460256695747375 \n",
            "lost: 0.1330815702676773 \n",
            "lost: 0.12156059592962265 \n",
            "lost: 0.1100396141409874 \n",
            "epoch: 50 | loss: 0.1100396141409874 |Test loss: 0.09020347893238068\n",
            "OrderedDict([('weights', tensor([0.6834])), ('bias', tensor([0.4050]))])\n",
            "lost: 0.09851861745119095 \n",
            "lost: 0.0869976356625557 \n",
            "lost: 0.07547664642333984 \n",
            "lost: 0.06395565718412399 \n",
            "lost: 0.05243467539548874 \n",
            "lost: 0.04091368243098259 \n",
            "lost: 0.029392695054411888 \n",
            "lost: 0.017871711403131485 \n",
            "lost: 0.010616960003972054 \n",
            "lost: 0.009724985808134079 \n",
            "epoch: 60 | loss: 0.009724985808134079 |Test loss: 0.020998019725084305\n",
            "OrderedDict([('weights', tensor([0.6539])), ('bias', tensor([0.3200]))])\n",
            "lost: 0.009325616993010044 \n",
            "lost: 0.00897279754281044 \n",
            "lost: 0.008620461449027061 \n",
            "lost: 0.008283796720206738 \n",
            "lost: 0.007935261353850365 \n",
            "lost: 0.007594785653054714 \n",
            "lost: 0.007250060793012381 \n",
            "lost: 0.00690577644854784 \n",
            "lost: 0.0065648676827549934 \n",
            "lost: 0.006216754671186209 \n",
            "epoch: 70 | loss: 0.006216754671186209 |Test loss: 0.014099234715104103\n",
            "OrderedDict([('weights', tensor([0.6707])), ('bias', tensor([0.3120]))])\n",
            "lost: 0.005879654549062252 \n",
            "lost: 0.0055306581780314445 \n",
            "lost: 0.0051915524527430534 \n",
            "lost: 0.0048454562202095985 \n",
            "lost: 0.004502544645220041 \n",
            "lost: 0.004160256590694189 \n",
            "lost: 0.00381353497505188 \n",
            "lost: 0.003475042525678873 \n",
            "lost: 0.003126060124486685 \n",
            "lost: 0.002788322512060404 \n",
            "epoch: 80 | loss: 0.002788322512060404 |Test loss: 0.005826681852340698\n",
            "OrderedDict([('weights', tensor([0.6878])), ('bias', tensor([0.3050]))])\n",
            "lost: 0.0024408488534390926 \n",
            "lost: 0.002099317265674472 \n",
            "lost: 0.0017560191918164492 \n",
            "lost: 0.001492114388383925 \n",
            "lost: 0.0019509084522724152 \n",
            "lost: 0.007095950655639172 \n",
            "lost: 0.004425036255270243 \n",
            "lost: 0.007095950655639172 \n",
            "lost: 0.004425036255270243 \n",
            "lost: 0.007095950655639172 \n",
            "epoch: 90 | loss: 0.007095950655639172 |Test loss: 0.00754010071977973\n",
            "OrderedDict([('weights', tensor([0.6938])), ('bias', tensor([0.2980]))])\n",
            "lost: 0.004425036255270243 \n",
            "lost: 0.007095950655639172 \n",
            "lost: 0.004425036255270243 \n",
            "lost: 0.007095950655639172 \n",
            "lost: 0.004425036255270243 \n",
            "lost: 0.007095950655639172 \n",
            "lost: 0.004425036255270243 \n",
            "lost: 0.007095950655639172 \n",
            "lost: 0.004425036255270243 \n"
          ]
        }
      ]
    },
    {
      "cell_type": "code",
      "source": [
        "with torch.inference_mode():\n",
        "    y_preds_new = model_0(x_test)\n",
        "y_preds_new"
      ],
      "metadata": {
        "colab": {
          "base_uri": "https://localhost:8080/"
        },
        "id": "wBK_FzMJlkrc",
        "outputId": "5737b122-873a-447c-a4f6-85c4a3310367"
      },
      "execution_count": 19,
      "outputs": [
        {
          "output_type": "execute_result",
          "data": {
            "text/plain": [
              "tensor([[0.8661],\n",
              "        [0.8801],\n",
              "        [0.8940],\n",
              "        [0.9080],\n",
              "        [0.9220],\n",
              "        [0.9359],\n",
              "        [0.9499],\n",
              "        [0.9638],\n",
              "        [0.9778],\n",
              "        [0.9917]])"
            ]
          },
          "metadata": {},
          "execution_count": 19
        }
      ]
    },
    {
      "cell_type": "code",
      "source": [
        "plot_predictions(predictions = y_preds_new)"
      ],
      "metadata": {
        "colab": {
          "base_uri": "https://localhost:8080/",
          "height": 461
        },
        "id": "XxGqQmhWly4-",
        "outputId": "335827d8-513b-4c1c-b3af-37c7b8bbfe9f"
      },
      "execution_count": 20,
      "outputs": [
        {
          "output_type": "display_data",
          "data": {
            "text/plain": [
              "<Figure size 1000x700 with 1 Axes>"
            ],
            "image/png": "[encoded data removed]"
          },
          "metadata": {}
        }
      ]
    },
    {
      "cell_type": "code",
      "source": [
        "model_0.state_dict()"
      ],
      "metadata": {
        "colab": {
          "base_uri": "https://localhost:8080/"
        },
        "id": "J1kUvPYDkZjG",
        "outputId": "b96117ef-a1d5-4c69-92ad-e883f1898f2c"
      },
      "execution_count": 21,
      "outputs": [
        {
          "output_type": "execute_result",
          "data": {
            "text/plain": [
              "OrderedDict([('weights', tensor([0.6977])), ('bias', tensor([0.3080]))])"
            ]
          },
          "metadata": {},
          "execution_count": 21
        }
      ]
    },
    {
      "cell_type": "code",
      "source": [
        "weigth, bias\n"
      ],
      "metadata": {
        "colab": {
          "base_uri": "https://localhost:8080/"
        },
        "id": "l2bgyeVOkc_Z",
        "outputId": "0ab4d75d-c264-44ad-df05-3eb5ca469605"
      },
      "execution_count": 22,
      "outputs": [
        {
          "output_type": "execute_result",
          "data": {
            "text/plain": [
              "(0.7, 0.3)"
            ]
          },
          "metadata": {},
          "execution_count": 22
        }
      ]
    },
    {
      "cell_type": "markdown",
      "source": [
        "## Saving a model"
      ],
      "metadata": {
        "id": "qi_L9TM1xY9T"
      }
    },
    {
      "cell_type": "code",
      "source": [
        "#saving your model\n",
        "from pathlib import Path\n",
        "#.create models directory\n",
        "MODEL_PATH = Path(\"models\")\n",
        "MODEL_PATH.mkdir(parents = True, exist_ok = True)\n",
        "#create models save path\n",
        "MODEL_NAME = \"01_pytorch_workflow_model_0.pth\"\n",
        "MODEL_SAVE_PATH = MODEL_PATH / MODEL_NAME\n",
        "MODEL_SAVE_PATH\n",
        "#save the model state dict\n",
        "print(f\"saving mode to : {MODEL_SAVE_PATH}\")\n",
        "torch.save(obj = model_0, f = MODEL_SAVE_PATH)\n"
      ],
      "metadata": {
        "colab": {
          "base_uri": "https://localhost:8080/"
        },
        "id": "DTl-cVauxWnm",
        "outputId": "33661262-c9d5-415b-9d18-7265c015f54b"
      },
      "execution_count": 23,
      "outputs": [
        {
          "output_type": "stream",
          "name": "stdout",
          "text": [
            "saving mode to : models/01_pytorch_workflow_model_0.pth\n"
          ]
        }
      ]
    },
    {
      "cell_type": "code",
      "source": [
        "!ls -l models"
      ],
      "metadata": {
        "colab": {
          "base_uri": "https://localhost:8080/"
        },
        "id": "d3nf9C3QzSsf",
        "outputId": "d1d3a387-5a12-4511-e83b-2284f8f79e5a"
      },
      "execution_count": 24,
      "outputs": [
        {
          "output_type": "stream",
          "name": "stdout",
          "text": [
            "total 4\n",
            "-rw-r--r-- 1 root root 1783 Sep 20 07:29 01_pytorch_workflow_model_0.pth\n"
          ]
        }
      ]
    },
    {
      "cell_type": "markdown",
      "source": [
        "##Load a models"
      ],
      "metadata": {
        "id": "0zuC69V30wpE"
      }
    },
    {
      "cell_type": "code",
      "source": [
        "model_0.state_dict()"
      ],
      "metadata": {
        "colab": {
          "base_uri": "https://localhost:8080/"
        },
        "id": "b5RSwmvs2GlU",
        "outputId": "96591b3a-1b42-4a96-a7f5-93bba22ecf30"
      },
      "execution_count": 25,
      "outputs": [
        {
          "output_type": "execute_result",
          "data": {
            "text/plain": [
              "OrderedDict([('weights', tensor([0.6977])), ('bias', tensor([0.3080]))])"
            ]
          },
          "metadata": {},
          "execution_count": 25
        }
      ]
    },
    {
      "cell_type": "code",
      "source": [
        "#to load in a save state_dict we have to instanttiate a new instance of outr model class\n",
        "loaded_model_0 = LinearRegressionModule()\n",
        "\n",
        "loaded_model_0.load_state_dict(torch.load(f = MODEL_SAVE_PATH).state_dict())"
      ],
      "metadata": {
        "colab": {
          "base_uri": "https://localhost:8080/"
        },
        "id": "5oDKlzWr0uSt",
        "outputId": "20cabdfe-22dd-4fa9-f1a8-01a222438359"
      },
      "execution_count": 26,
      "outputs": [
        {
          "output_type": "execute_result",
          "data": {
            "text/plain": [
              "<All keys matched successfully>"
            ]
          },
          "metadata": {},
          "execution_count": 26
        }
      ]
    },
    {
      "cell_type": "code",
      "source": [
        "loaded_model_0.state_dict()\n"
      ],
      "metadata": {
        "colab": {
          "base_uri": "https://localhost:8080/"
        },
        "id": "XUlOpmJ91N3S",
        "outputId": "8470eab6-5004-4ca8-e855-b105b1a03c6a"
      },
      "execution_count": 27,
      "outputs": [
        {
          "output_type": "execute_result",
          "data": {
            "text/plain": [
              "OrderedDict([('weights', tensor([0.6977])), ('bias', tensor([0.3080]))])"
            ]
          },
          "metadata": {},
          "execution_count": 27
        }
      ]
    },
    {
      "cell_type": "code",
      "source": [
        "x_test"
      ],
      "metadata": {
        "colab": {
          "base_uri": "https://localhost:8080/"
        },
        "id": "NFHgBXNs3qKX",
        "outputId": "f2700766-e4c6-4cca-cd92-caf59adcc10d"
      },
      "execution_count": 28,
      "outputs": [
        {
          "output_type": "execute_result",
          "data": {
            "text/plain": [
              "tensor([[0.8000],\n",
              "        [0.8200],\n",
              "        [0.8400],\n",
              "        [0.8600],\n",
              "        [0.8800],\n",
              "        [0.9000],\n",
              "        [0.9200],\n",
              "        [0.9400],\n",
              "        [0.9600],\n",
              "        [0.9800]])"
            ]
          },
          "metadata": {},
          "execution_count": 28
        }
      ]
    },
    {
      "cell_type": "code",
      "source": [
        "#make some predictions\n",
        "loaded_model_0.eval()\n",
        "with torch.inference_mode():\n",
        "    loaded_model_preds = loaded_model_0(x_test)\n",
        "loaded_model_preds"
      ],
      "metadata": {
        "colab": {
          "base_uri": "https://localhost:8080/"
        },
        "id": "eYFZ18i03UgD",
        "outputId": "47d2ce9a-f2e0-4fbb-f6dd-efcc1fc4e427"
      },
      "execution_count": 29,
      "outputs": [
        {
          "output_type": "execute_result",
          "data": {
            "text/plain": [
              "tensor([[0.8661],\n",
              "        [0.8801],\n",
              "        [0.8940],\n",
              "        [0.9080],\n",
              "        [0.9220],\n",
              "        [0.9359],\n",
              "        [0.9499],\n",
              "        [0.9638],\n",
              "        [0.9778],\n",
              "        [0.9917]])"
            ]
          },
          "metadata": {},
          "execution_count": 29
        }
      ]
    },
    {
      "cell_type": "code",
      "source": [
        "#compare loaded model preds with original model preds\n",
        "y_preds == loaded_model_preds"
      ],
      "metadata": {
        "colab": {
          "base_uri": "https://localhost:8080/"
        },
        "id": "FW9T8JnG337M",
        "outputId": "593e305e-fb90-4357-d319-c97a1badb125"
      },
      "execution_count": 30,
      "outputs": [
        {
          "output_type": "execute_result",
          "data": {
            "text/plain": [
              "tensor([[False],\n",
              "        [False],\n",
              "        [False],\n",
              "        [False],\n",
              "        [False],\n",
              "        [False],\n",
              "        [False],\n",
              "        [False],\n",
              "        [False],\n",
              "        [False]])"
            ]
          },
          "metadata": {},
          "execution_count": 30
        }
      ]
    },
    {
      "cell_type": "code",
      "source": [
        "#make som models preds\n",
        "model_0.eval()\n",
        "with torch.inference_mode():\n",
        "    y_preds = model_0(x_test)\n",
        "y_preds == loaded_model_preds"
      ],
      "metadata": {
        "colab": {
          "base_uri": "https://localhost:8080/"
        },
        "id": "pnfE5kuw4HBZ",
        "outputId": "78edf213-67ac-4fbf-e927-23418ad25c51"
      },
      "execution_count": 31,
      "outputs": [
        {
          "output_type": "execute_result",
          "data": {
            "text/plain": [
              "tensor([[True],\n",
              "        [True],\n",
              "        [True],\n",
              "        [True],\n",
              "        [True],\n",
              "        [True],\n",
              "        [True],\n",
              "        [True],\n",
              "        [True],\n",
              "        [True]])"
            ]
          },
          "metadata": {},
          "execution_count": 31
        }
      ]
    },
    {
      "cell_type": "markdown",
      "source": [
        "##6 putting it all together\n"
      ],
      "metadata": {
        "id": "FBICfCeZ4876"
      }
    },
    {
      "cell_type": "code",
      "source": [
        "import torch\n",
        "from torch import nn\n",
        "import matplotlib.pyplot as plt\n",
        "torch.__version__\n"
      ],
      "metadata": {
        "colab": {
          "base_uri": "https://localhost:8080/",
          "height": 35
        },
        "id": "F3Na-NfL4_Ga",
        "outputId": "7d7e3577-40a0-40b3-d5ee-ba1fe2e608fc"
      },
      "execution_count": 32,
      "outputs": [
        {
          "output_type": "execute_result",
          "data": {
            "text/plain": [
              "'2.0.1+cu118'"
            ],
            "application/vnd.google.colaboratory.intrinsic+json": {
              "type": "string"
            }
          },
          "metadata": {},
          "execution_count": 32
        }
      ]
    },
    {
      "cell_type": "code",
      "source": [
        "## create device-agnostic code\n",
        "device = \"cuda\" if torch.cuda.is_available() else \"cpu\"\n",
        "print(f\"using {device}\")"
      ],
      "metadata": {
        "colab": {
          "base_uri": "https://localhost:8080/"
        },
        "id": "ls96DMhq5Jgx",
        "outputId": "be586cbe-4d66-41a0-9f75-695422417c2f"
      },
      "execution_count": 33,
      "outputs": [
        {
          "output_type": "stream",
          "name": "stdout",
          "text": [
            "using cuda\n"
          ]
        }
      ]
    },
    {
      "cell_type": "markdown",
      "source": [
        "#6.1 Data\n"
      ],
      "metadata": {
        "id": "DZikDFOk6E3n"
      }
    },
    {
      "cell_type": "code",
      "source": [
        "#create some data\n",
        "weight = 0.7\n",
        "bias = 0.3\n",
        "#create range value\n",
        "start = 0\n",
        "end = 1\n",
        "step = 0.02\n",
        "#create x and y\n",
        "x = torch.arange(start, end, step).unsqueeze(dim = 1)\n",
        "y = weight*x + bias\n",
        "x[:10], y[:10]"
      ],
      "metadata": {
        "id": "1R00Ojo_6GNe",
        "colab": {
          "base_uri": "https://localhost:8080/"
        },
        "outputId": "9a9a17ac-5982-456b-e162-78cb3bd1f8df"
      },
      "execution_count": 34,
      "outputs": [
        {
          "output_type": "execute_result",
          "data": {
            "text/plain": [
              "(tensor([[0.0000],\n",
              "         [0.0200],\n",
              "         [0.0400],\n",
              "         [0.0600],\n",
              "         [0.0800],\n",
              "         [0.1000],\n",
              "         [0.1200],\n",
              "         [0.1400],\n",
              "         [0.1600],\n",
              "         [0.1800]]),\n",
              " tensor([[0.3000],\n",
              "         [0.3140],\n",
              "         [0.3280],\n",
              "         [0.3420],\n",
              "         [0.3560],\n",
              "         [0.3700],\n",
              "         [0.3840],\n",
              "         [0.3980],\n",
              "         [0.4120],\n",
              "         [0.4260]]))"
            ]
          },
          "metadata": {},
          "execution_count": 34
        }
      ]
    },
    {
      "cell_type": "code",
      "source": [
        "#split data\n",
        "train_split = int(0.8 * len(x))\n",
        "x_train, y_train = x[:train_split], y[:train_split]\n",
        "x_test, y_test = x[train_split:], y[train_split:]\n",
        "len(x_train), len(y_train), len(x_test), len(y_test)\n"
      ],
      "metadata": {
        "colab": {
          "base_uri": "https://localhost:8080/"
        },
        "id": "d8dkeVXAfpmt",
        "outputId": "b5534fb0-e2de-4d92-b9d8-19108a5f51b1"
      },
      "execution_count": 35,
      "outputs": [
        {
          "output_type": "execute_result",
          "data": {
            "text/plain": [
              "(40, 40, 10, 10)"
            ]
          },
          "metadata": {},
          "execution_count": 35
        }
      ]
    },
    {
      "cell_type": "code",
      "source": [
        "#plot\n",
        "plot_predictions(x_train, y_train, x_test, y_test)\n"
      ],
      "metadata": {
        "colab": {
          "base_uri": "https://localhost:8080/",
          "height": 461
        },
        "id": "lElnh6gFgK-C",
        "outputId": "9a4bc66d-f817-4987-d75e-faff8ef85965"
      },
      "execution_count": 36,
      "outputs": [
        {
          "output_type": "display_data",
          "data": {
            "text/plain": [
              "<Figure size 1000x700 with 1 Axes>"
            ],
            "image/png": "[encoded data removed]"
          },
          "metadata": {}
        }
      ]
    },
    {
      "cell_type": "code",
      "source": [
        "#create a linear model by subclass nn.Model\n",
        "class LinearRegressionModuleV2(nn.Module):\n",
        "    def __init__(self):\n",
        "        super().__init__()\n",
        "        #use linear() for create the model parameter\n",
        "        self.linear_layer = nn.Linear(in_features=1,\n",
        "                                      out_features = 1)\n",
        "\n",
        "        #forward method to defind the computation in the model\n",
        "    def forward(self, x: torch.Tensor) ->torch.Tensor:\n",
        "        return self.linear_layer(x)"
      ],
      "metadata": {
        "id": "FIhHJ1KFhLb8"
      },
      "execution_count": 40,
      "outputs": []
    },
    {
      "cell_type": "code",
      "source": [
        "torch.manual_seed(42)\n",
        "model = LinearRegressionModuleV2()\n",
        "model, model.state_dict()"
      ],
      "metadata": {
        "colab": {
          "base_uri": "https://localhost:8080/"
        },
        "id": "tQN81PGUjWt4",
        "outputId": "76282e87-a265-4451-bbf5-9e7de53c6e11"
      },
      "execution_count": 41,
      "outputs": [
        {
          "output_type": "execute_result",
          "data": {
            "text/plain": [
              "(LinearRegressionModuleV2(\n",
              "   (linear_layer): Linear(in_features=1, out_features=1, bias=True)\n",
              " ),\n",
              " OrderedDict([('linear_layer.weight', tensor([[0.7645]])),\n",
              "              ('linear_layer.bias', tensor([0.8300]))]))"
            ]
          },
          "metadata": {},
          "execution_count": 41
        }
      ]
    },
    {
      "cell_type": "code",
      "source": [
        "x_train, y_train, model.parameters()"
      ],
      "metadata": {
        "colab": {
          "base_uri": "https://localhost:8080/"
        },
        "id": "i4MPlNkohwl1",
        "outputId": "f18c6e6d-b89d-4171-9d36-be61fa27b5a1"
      },
      "execution_count": 47,
      "outputs": [
        {
          "output_type": "execute_result",
          "data": {
            "text/plain": [
              "(tensor([[0.0000],\n",
              "         [0.0200],\n",
              "         [0.0400],\n",
              "         [0.0600],\n",
              "         [0.0800],\n",
              "         [0.1000],\n",
              "         [0.1200],\n",
              "         [0.1400],\n",
              "         [0.1600],\n",
              "         [0.1800],\n",
              "         [0.2000],\n",
              "         [0.2200],\n",
              "         [0.2400],\n",
              "         [0.2600],\n",
              "         [0.2800],\n",
              "         [0.3000],\n",
              "         [0.3200],\n",
              "         [0.3400],\n",
              "         [0.3600],\n",
              "         [0.3800],\n",
              "         [0.4000],\n",
              "         [0.4200],\n",
              "         [0.4400],\n",
              "         [0.4600],\n",
              "         [0.4800],\n",
              "         [0.5000],\n",
              "         [0.5200],\n",
              "         [0.5400],\n",
              "         [0.5600],\n",
              "         [0.5800],\n",
              "         [0.6000],\n",
              "         [0.6200],\n",
              "         [0.6400],\n",
              "         [0.6600],\n",
              "         [0.6800],\n",
              "         [0.7000],\n",
              "         [0.7200],\n",
              "         [0.7400],\n",
              "         [0.7600],\n",
              "         [0.7800]]),\n",
              " tensor([[0.3000],\n",
              "         [0.3140],\n",
              "         [0.3280],\n",
              "         [0.3420],\n",
              "         [0.3560],\n",
              "         [0.3700],\n",
              "         [0.3840],\n",
              "         [0.3980],\n",
              "         [0.4120],\n",
              "         [0.4260],\n",
              "         [0.4400],\n",
              "         [0.4540],\n",
              "         [0.4680],\n",
              "         [0.4820],\n",
              "         [0.4960],\n",
              "         [0.5100],\n",
              "         [0.5240],\n",
              "         [0.5380],\n",
              "         [0.5520],\n",
              "         [0.5660],\n",
              "         [0.5800],\n",
              "         [0.5940],\n",
              "         [0.6080],\n",
              "         [0.6220],\n",
              "         [0.6360],\n",
              "         [0.6500],\n",
              "         [0.6640],\n",
              "         [0.6780],\n",
              "         [0.6920],\n",
              "         [0.7060],\n",
              "         [0.7200],\n",
              "         [0.7340],\n",
              "         [0.7480],\n",
              "         [0.7620],\n",
              "         [0.7760],\n",
              "         [0.7900],\n",
              "         [0.8040],\n",
              "         [0.8180],\n",
              "         [0.8320],\n",
              "         [0.8460]]),\n",
              " <generator object Module.parameters at 0x7da6f09afa70>)"
            ]
          },
          "metadata": {},
          "execution_count": 47
        }
      ]
    },
    {
      "cell_type": "code",
      "source": [
        "#check the model current device\n",
        "next(model.parameters()).device"
      ],
      "metadata": {
        "colab": {
          "base_uri": "https://localhost:8080/"
        },
        "id": "-qJ1NuJzj8Jl",
        "outputId": "f4a6ae07-a273-49b8-8b21-c49c584bf63c"
      },
      "execution_count": 43,
      "outputs": [
        {
          "output_type": "execute_result",
          "data": {
            "text/plain": [
              "device(type='cpu')"
            ]
          },
          "metadata": {},
          "execution_count": 43
        }
      ]
    },
    {
      "cell_type": "code",
      "source": [
        "#set the model to use the target device\n",
        "model.to(device)\n",
        "next(model.parameters()).device"
      ],
      "metadata": {
        "colab": {
          "base_uri": "https://localhost:8080/"
        },
        "id": "fOqSwmf1j1ci",
        "outputId": "75a082c9-f517-4d9e-cfb8-6acc80c731b0"
      },
      "execution_count": 46,
      "outputs": [
        {
          "output_type": "execute_result",
          "data": {
            "text/plain": [
              "device(type='cuda', index=0)"
            ]
          },
          "metadata": {},
          "execution_count": 46
        }
      ]
    },
    {
      "cell_type": "markdown",
      "source": [
        "##6.3 trainning"
      ],
      "metadata": {
        "id": "LibFj36hkXwI"
      }
    },
    {
      "cell_type": "code",
      "source": [
        "#training\n",
        "loss_fn = nn.L1Loss()\n",
        "optimizer = torch.optim.SGD(params = model.parameters(),  lr = 0.01)"
      ],
      "metadata": {
        "id": "ghOI7nc7kQuL"
      },
      "execution_count": 50,
      "outputs": []
    },
    {
      "cell_type": "code",
      "source": [
        "#let's write a training loop\n",
        "torch.manual_seed(42)\n",
        "epochs = 200\n",
        "\n",
        "#put the data on the target device\n",
        "x_train = x_train.to(device)\n",
        "y_train = y_train.to(device)\n",
        "x_test = x_test.to(device)\n",
        "y_test  = y_test.to(device)\n",
        "for epoch in range(epochs):\n",
        "    model.train()\n",
        "    #1. forward pass\n",
        "    y_pred = model(x_train)\n",
        "    #2. loss\n",
        "    loss = loss_fn(y_pred, y_train)\n",
        "    #3. optimizer zero grad\n",
        "    optimizer.zero_grad()\n",
        "    #4. perform backpropagation\n",
        "    loss.backward()\n",
        "    #5.optimizer step\n",
        "    optimizer.step()\n",
        "\n",
        "    ##Testing\n",
        "    model.eval()\n",
        "    with torch.inference_mode():\n",
        "        test_pred = model(x_test)\n",
        "        loss = loss_fn(test_pred, y_test)\n",
        "        #print out whats happening\n",
        "    if epoch % 10 == 0:\n",
        "        print(f\"epoch: {epoch} |loss: {loss} | test loss: {test_loss}\" )"
      ],
      "metadata": {
        "colab": {
          "base_uri": "https://localhost:8080/"
        },
        "id": "2V3QSP_2k5QZ",
        "outputId": "602e147b-ec55-4576-c395-fb830964246e"
      },
      "execution_count": 51,
      "outputs": [
        {
          "output_type": "stream",
          "name": "stdout",
          "text": [
            "epoch: 0 |loss: 0.5739762187004089 | test loss: 0.005930870771408081\n",
            "epoch: 10 |loss: 0.4392664134502411 | test loss: 0.005930870771408081\n",
            "epoch: 20 |loss: 0.30455657839775085 | test loss: 0.005930870771408081\n",
            "epoch: 30 |loss: 0.16984669864177704 | test loss: 0.005930870771408081\n",
            "epoch: 40 |loss: 0.03513690456748009 | test loss: 0.005930870771408081\n",
            "epoch: 50 |loss: 0.04784907028079033 | test loss: 0.005930870771408081\n",
            "epoch: 60 |loss: 0.045803118497133255 | test loss: 0.005930870771408081\n",
            "epoch: 70 |loss: 0.037530567497015 | test loss: 0.005930870771408081\n",
            "epoch: 80 |loss: 0.02994490973651409 | test loss: 0.005930870771408081\n",
            "epoch: 90 |loss: 0.02167237363755703 | test loss: 0.005930870771408081\n",
            "epoch: 100 |loss: 0.014086711220443249 | test loss: 0.005930870771408081\n",
            "epoch: 110 |loss: 0.005814164876937866 | test loss: 0.005930870771408081\n",
            "epoch: 120 |loss: 0.013801801018416882 | test loss: 0.005930870771408081\n",
            "epoch: 130 |loss: 0.013801801018416882 | test loss: 0.005930870771408081\n",
            "epoch: 140 |loss: 0.013801801018416882 | test loss: 0.005930870771408081\n",
            "epoch: 150 |loss: 0.013801801018416882 | test loss: 0.005930870771408081\n",
            "epoch: 160 |loss: 0.013801801018416882 | test loss: 0.005930870771408081\n",
            "epoch: 170 |loss: 0.013801801018416882 | test loss: 0.005930870771408081\n",
            "epoch: 180 |loss: 0.013801801018416882 | test loss: 0.005930870771408081\n",
            "epoch: 190 |loss: 0.013801801018416882 | test loss: 0.005930870771408081\n"
          ]
        }
      ]
    },
    {
      "cell_type": "code",
      "source": [
        "model.state_dict()"
      ],
      "metadata": {
        "colab": {
          "base_uri": "https://localhost:8080/"
        },
        "id": "n9GNYDW4mW_c",
        "outputId": "06a6a25b-0545-4732-8b20-68c2ce0a4fb6"
      },
      "execution_count": 52,
      "outputs": [
        {
          "output_type": "execute_result",
          "data": {
            "text/plain": [
              "OrderedDict([('linear_layer.weight', tensor([[0.6968]], device='cuda:0')),\n",
              "             ('linear_layer.bias', tensor([0.3025], device='cuda:0'))])"
            ]
          },
          "metadata": {},
          "execution_count": 52
        }
      ]
    },
    {
      "cell_type": "markdown",
      "source": [
        "##6.4 Making and evaluating predictions\n"
      ],
      "metadata": {
        "id": "EI_auJDFnETb"
      }
    },
    {
      "cell_type": "code",
      "source": [
        "#turn model into evalutation mode\n",
        "model.eval()\n",
        "with torch.inference_mode():\n",
        "    y_preds = model(x_test)\n",
        "plot_predictions(predictions = y_preds.cpu())"
      ],
      "metadata": {
        "colab": {
          "base_uri": "https://localhost:8080/",
          "height": 461
        },
        "id": "_X3PHKXvnIhR",
        "outputId": "cf559cc5-5856-4436-c95b-982e77f7c5e8"
      },
      "execution_count": 55,
      "outputs": [
        {
          "output_type": "display_data",
          "data": {
            "text/plain": [
              "<Figure size 1000x700 with 1 Axes>"
            ],
            "image/png": "[encoded data removed]"
          },
          "metadata": {}
        }
      ]
    },
    {
      "cell_type": "markdown",
      "source": [
        "###6.5 Saving & loading a trained model\n"
      ],
      "metadata": {
        "id": "ieG4yFtkoAgA"
      }
    },
    {
      "cell_type": "code",
      "source": [
        "from pathlib import Path\n",
        "#1.create models directory\n",
        "MODEL_PATH =  Path(\"models\")\n",
        "MODEL_PATH.mkdir(parents = True, exist_ok = True)\n",
        "#2. create model save path\n",
        "MODEL_NAME = \"01_pytorch_workflow_model.pth\"\n",
        "MODEL_SAVE_PATH = MODEL_PATH / MODEL_NAME\n",
        "#3. save the model state dict\n",
        "print(f\"saving model to :{MODEL_SAVE_PATH}\")\n",
        "torch.save(obj = model.state_dict(), f = MODEL_SAVE_PATH)"
      ],
      "metadata": {
        "colab": {
          "base_uri": "https://localhost:8080/"
        },
        "id": "f4WOy_nNoBIr",
        "outputId": "dabefc3e-4efc-44ec-d9d5-dfaaf5e97d08"
      },
      "execution_count": 59,
      "outputs": [
        {
          "output_type": "stream",
          "name": "stdout",
          "text": [
            "saving model to :models/01_pytorch_workflow_model.pth\n"
          ]
        }
      ]
    },
    {
      "cell_type": "code",
      "source": [
        "#load a pytorch\n",
        "loaded_model = LinearRegressionModuleV2()\n",
        "loaded_model.load_state_dict(torch.load(MODEL_SAVE_PATH))\n",
        "#put the loaded to device\n",
        "loaded_model.to(device)"
      ],
      "metadata": {
        "colab": {
          "base_uri": "https://localhost:8080/"
        },
        "id": "D7yS75YHoVfC",
        "outputId": "946dbfd5-4573-4d7a-b992-919bdfd88e70"
      },
      "execution_count": 60,
      "outputs": [
        {
          "output_type": "execute_result",
          "data": {
            "text/plain": [
              "LinearRegressionModuleV2(\n",
              "  (linear_layer): Linear(in_features=1, out_features=1, bias=True)\n",
              ")"
            ]
          },
          "metadata": {},
          "execution_count": 60
        }
      ]
    },
    {
      "cell_type": "code",
      "source": [
        "next(loaded_model.parameters()).device"
      ],
      "metadata": {
        "colab": {
          "base_uri": "https://localhost:8080/"
        },
        "id": "aYDiEs3vpyda",
        "outputId": "781d46d0-0944-4ee2-c541-234164af3fa5"
      },
      "execution_count": 61,
      "outputs": [
        {
          "output_type": "execute_result",
          "data": {
            "text/plain": [
              "device(type='cuda', index=0)"
            ]
          },
          "metadata": {},
          "execution_count": 61
        }
      ]
    },
    {
      "cell_type": "code",
      "source": [
        "loaded_model.state_dict()"
      ],
      "metadata": {
        "colab": {
          "base_uri": "https://localhost:8080/"
        },
        "id": "pV7TnVapp7aO",
        "outputId": "23e5e2e6-3c95-4132-88a1-a187ed320d99"
      },
      "execution_count": 62,
      "outputs": [
        {
          "output_type": "execute_result",
          "data": {
            "text/plain": [
              "OrderedDict([('linear_layer.weight', tensor([[0.6968]], device='cuda:0')),\n",
              "             ('linear_layer.bias', tensor([0.3025], device='cuda:0'))])"
            ]
          },
          "metadata": {},
          "execution_count": 62
        }
      ]
    },
    {
      "cell_type": "code",
      "source": [
        "#evaluate loaded model\n",
        "loaded_model.eval()\n",
        "with torch.inference_mode():\n",
        "    loaded_model_preds = loaded_model(x_test)\n",
        "plot_predictions(predictions = loaded_model_preds.cpu())\n",
        "y_preds == loaded_model_preds"
      ],
      "metadata": {
        "colab": {
          "base_uri": "https://localhost:8080/",
          "height": 634
        },
        "id": "OQdoYdgvqDL6",
        "outputId": "4ee27818-a16b-47a9-e41c-d3509f45113a"
      },
      "execution_count": 66,
      "outputs": [
        {
          "output_type": "execute_result",
          "data": {
            "text/plain": [
              "tensor([[True],\n",
              "        [True],\n",
              "        [True],\n",
              "        [True],\n",
              "        [True],\n",
              "        [True],\n",
              "        [True],\n",
              "        [True],\n",
              "        [True],\n",
              "        [True]], device='cuda:0')"
            ]
          },
          "metadata": {},
          "execution_count": 66
        },
        {
          "output_type": "display_data",
          "data": {
            "text/plain": [
              "<Figure size 1000x700 with 1 Axes>"
            ],
            "image/png": "[encoded data removed]"
          },
          "metadata": {}
        }
      ]
    }
  ]
}
